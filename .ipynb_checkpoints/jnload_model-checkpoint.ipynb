{
 "cells": [
  {
   "cell_type": "code",
   "execution_count": 17,
   "id": "edb61f2f",
   "metadata": {},
   "outputs": [],
   "source": [
    "from keras.models import load_model\n",
    "from tensorflow.keras.preprocessing import image\n"
   ]
  },
  {
   "cell_type": "code",
   "execution_count": null,
   "id": "6339bc46",
   "metadata": {},
   "outputs": [],
   "source": [
    "#Load Saved Model File\n",
    "model=load_model(r'C:\\Users\\Antarlin\\Desktop\\Data_Science\\Deployment26July2021\\CatsDogs\\flask_app\\catdog.h5')"
   ]
  },
  {
   "cell_type": "code",
   "execution_count": 18,
   "id": "b750b9fe",
   "metadata": {},
   "outputs": [],
   "source": [
    "# Classification image path\n",
    "# input  image location that is to be classified\n",
    "img_path=r'C:\\Users\\Antarlin\\Desktop\\Data_Science\\Deployment26July2021\\FaceMask\\Dataset\\MaskedMan.jpg'"
   ]
  },
  {
   "cell_type": "code",
   "execution_count": 19,
   "id": "8b6bf60e",
   "metadata": {},
   "outputs": [],
   "source": [
    "# read the image\n",
    "test_image=image.load_img(img_path,target_size=(64,64))"
   ]
  },
  {
   "cell_type": "code",
   "execution_count": 20,
   "id": "68d0a3d9",
   "metadata": {},
   "outputs": [],
   "source": [
    "# image to array\n",
    "test_image=image.img_to_array(test_image)\n",
    "test_image=test_image.reshape(1,64,64,3)\n",
    "result=model.predict(test_image)\n"
   ]
  },
  {
   "cell_type": "code",
   "execution_count": 21,
   "id": "0972a8ef",
   "metadata": {
    "scrolled": true
   },
   "outputs": [
    {
     "data": {
      "text/plain": [
       "array([[0.9985814]], dtype=float32)"
      ]
     },
     "execution_count": 21,
     "metadata": {},
     "output_type": "execute_result"
    }
   ],
   "source": [
    "result"
   ]
  },
  {
   "cell_type": "code",
   "execution_count": 34,
   "id": "e2e7e0d0",
   "metadata": {},
   "outputs": [
    {
     "name": "stdout",
     "output_type": "stream",
     "text": [
      "Mask Worn Properly\n"
     ]
    }
   ],
   "source": [
    "if [result[0]<0.66][0]==True:\n",
    "    print(\"Mask Worn Improperly\")\n",
    "elif([result[0]>0.66][0] and [result[0]<1.32][0])==True:\n",
    "    print(\"Mask Worn Properly\")\n",
    "elif[result[0]>1.32][0]==True:\n",
    "    print(\"Mask Not Worn\")"
   ]
  }
 ],
 "metadata": {
  "kernelspec": {
   "display_name": "Python 3",
   "language": "python",
   "name": "python3"
  },
  "language_info": {
   "codemirror_mode": {
    "name": "ipython",
    "version": 3
   },
   "file_extension": ".py",
   "mimetype": "text/x-python",
   "name": "python",
   "nbconvert_exporter": "python",
   "pygments_lexer": "ipython3",
   "version": "3.8.8"
  }
 },
 "nbformat": 4,
 "nbformat_minor": 5
}
