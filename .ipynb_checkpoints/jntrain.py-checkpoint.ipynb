{
 "cells": [
  {
   "cell_type": "code",
   "execution_count": 9,
   "id": "abeabc4f",
   "metadata": {},
   "outputs": [],
   "source": [
    "\n",
    "# importing libraries\n",
    "import tensorflow\n",
    "from tensorflow.keras.models import Sequential\n",
    "from tensorflow.keras.layers import Dense,Dropout,Conv2D,MaxPooling2D,Flatten\n",
    "from tensorflow.keras.preprocessing.image import ImageDataGenerator\n",
    "import matplotlib.pyplot as plt\n",
    "from tensorflow.keras.preprocessing import image\n",
    "from keras.models import load_model\n"
   ]
  },
  {
   "cell_type": "code",
   "execution_count": 10,
   "id": "6cd3b1a9",
   "metadata": {},
   "outputs": [],
   "source": [
    "# Define path\n",
    "# replace location placed below with file location in your device\n",
    "training_path=r'C:\\Users\\Antarlin\\Desktop\\Data_Science\\Deployment26July2021\\FaceMask\\Dataset\\trainset'\n",
    "# replace location placed below with file location in your device\n",
    "testing_path=r'C:\\Users\\Antarlin\\Desktop\\Data_Science\\Deployment26July2021\\FaceMask\\Dataset\\testset'"
   ]
  },
  {
   "cell_type": "code",
   "execution_count": 11,
   "id": "1996f84a",
   "metadata": {},
   "outputs": [],
   "source": [
    "train_datagen=ImageDataGenerator(rescale=1/255,shear_range=0.2,zoom_range=0.2,horizontal_flip=True)\n",
    "\n",
    "test_datagen=ImageDataGenerator(rescale=1/255)"
   ]
  },
  {
   "cell_type": "code",
   "execution_count": 12,
   "id": "09400a14",
   "metadata": {},
   "outputs": [
    {
     "name": "stdout",
     "output_type": "stream",
     "text": [
      "Found 7186 images belonging to 3 classes.\n",
      "Found 1796 images belonging to 3 classes.\n"
     ]
    }
   ],
   "source": [
    "training_set=train_datagen.flow_from_directory(training_path,target_size=(64,64),batch_size=32,class_mode='binary',)\n",
    "\n",
    "testing_set=test_datagen.flow_from_directory(testing_path,target_size=(64,64),batch_size=32,class_mode='binary',)"
   ]
  },
  {
   "cell_type": "code",
   "execution_count": 13,
   "id": "d3cb556e",
   "metadata": {},
   "outputs": [
    {
     "data": {
      "text/plain": [
       "<matplotlib.image.AxesImage at 0x2d952817fa0>"
      ]
     },
     "execution_count": 13,
     "metadata": {},
     "output_type": "execute_result"
    },
    {
     "data": {
      "image/png": "[encoded data removed]",
      "text/plain": [
       "<Figure size 432x288 with 1 Axes>"
      ]
     },
     "metadata": {
      "needs_background": "light"
     },
     "output_type": "display_data"
    }
   ],
   "source": [
    "# lets see the data\n",
    "training_data=next(training_set)\n",
    "\n",
    "training_data[0].shape\n",
    "\n",
    "plt.imshow(training_data[0][1])"
   ]
  },
  {
   "cell_type": "code",
   "execution_count": 49,
   "id": "a0df6431",
   "metadata": {},
   "outputs": [],
   "source": [
    "# 1.model architecture\n",
    "# 2.compile\n",
    "# 3.fit\n",
    "\n",
    "classifier=Sequential()\n",
    "classifier.add(Conv2D(32,3,activation='relu',input_shape=(64,64,3)))\n",
    "classifier.add(MaxPooling2D())\n",
    "classifier.add(Conv2D(64,3,activation='relu'))\n",
    "classifier.add(MaxPooling2D())\n",
    "classifier.add(Conv2D(128,3,activation='relu'))\n",
    "classifier.add(MaxPooling2D())\n",
    "\n",
    "classifier.add(Flatten())\n",
    "classifier.add(Dense(128,activation='relu'))\n",
    "classifier.add(Dense(64,activation='relu'))\n",
    "classifier.add(Dense(3,activation='softmax'))"
   ]
  },
  {
   "cell_type": "code",
   "execution_count": 50,
   "id": "d92cbf0c",
   "metadata": {},
   "outputs": [],
   "source": [
    "classifier.compile(optimizer='adam',loss='sparse_categorical_crossentropy',metrics=['accuracy'])"
   ]
  },
  {
   "cell_type": "code",
   "execution_count": 51,
   "id": "434e9ef2",
   "metadata": {
    "scrolled": false
   },
   "outputs": [
    {
     "name": "stdout",
     "output_type": "stream",
     "text": [
      "Epoch 1/10\n",
      "225/225 [==============================] - 50s 218ms/step - loss: 0.3813 - accuracy: 0.8461 - val_loss: 0.2126 - val_accuracy: 0.9349\n",
      "Epoch 2/10\n",
      "225/225 [==============================] - 51s 224ms/step - loss: 0.1867 - accuracy: 0.9317 - val_loss: 0.1418 - val_accuracy: 0.9499\n",
      "Epoch 3/10\n",
      "225/225 [==============================] - 49s 218ms/step - loss: 0.1373 - accuracy: 0.9559 - val_loss: 0.0829 - val_accuracy: 0.9738\n",
      "Epoch 4/10\n",
      "225/225 [==============================] - 49s 217ms/step - loss: 0.1067 - accuracy: 0.9610 - val_loss: 0.0658 - val_accuracy: 0.9811\n",
      "Epoch 5/10\n",
      "225/225 [==============================] - 50s 222ms/step - loss: 0.0762 - accuracy: 0.9740 - val_loss: 0.0502 - val_accuracy: 0.9872\n",
      "Epoch 6/10\n",
      "225/225 [==============================] - 51s 225ms/step - loss: 0.0765 - accuracy: 0.9744 - val_loss: 0.0718 - val_accuracy: 0.9783\n",
      "Epoch 7/10\n",
      "225/225 [==============================] - 49s 219ms/step - loss: 0.0671 - accuracy: 0.9776 - val_loss: 0.0652 - val_accuracy: 0.9805\n",
      "Epoch 8/10\n",
      "225/225 [==============================] - 53s 235ms/step - loss: 0.0526 - accuracy: 0.9832 - val_loss: 0.0390 - val_accuracy: 0.9861\n",
      "Epoch 9/10\n",
      "225/225 [==============================] - 49s 219ms/step - loss: 0.0454 - accuracy: 0.9847 - val_loss: 0.0464 - val_accuracy: 0.9850\n",
      "Epoch 10/10\n",
      "225/225 [==============================] - 50s 222ms/step - loss: 0.0469 - accuracy: 0.9839 - val_loss: 0.0564 - val_accuracy: 0.9811\n"
     ]
    },
    {
     "data": {
      "text/plain": [
       "<tensorflow.python.keras.callbacks.History at 0x2d957755cd0>"
      ]
     },
     "execution_count": 51,
     "metadata": {},
     "output_type": "execute_result"
    }
   ],
   "source": [
    "classifier.fit(training_set,epochs=10,validation_data=testing_set)"
   ]
  },
  {
   "cell_type": "code",
   "execution_count": 52,
   "id": "7e9e0b42",
   "metadata": {},
   "outputs": [],
   "source": [
    "# saving the model\n",
    "# replace location placed below with where u want to save the model in your device\n",
    "classifier.save(r'C:\\Users\\Antarlin\\Desktop\\Data_Science\\Deployment26July2021\\FaceMask\\flask_app\\facemask.h5')"
   ]
  },
  {
   "cell_type": "code",
   "execution_count": 53,
   "id": "cfd581dd",
   "metadata": {},
   "outputs": [
    {
     "name": "stdout",
     "output_type": "stream",
     "text": [
      "{'mask_weared_incorrect': 0, 'with_mask': 1, 'without_mask': 2}\n"
     ]
    }
   ],
   "source": [
    "# to check the classes\n",
    "\n",
    "print(training_set.class_indices)\n"
   ]
  }
 ],
 "metadata": {
  "kernelspec": {
   "display_name": "Python 3",
   "language": "python",
   "name": "python3"
  }
 },
 "nbformat": 4,
 "nbformat_minor": 5
}
